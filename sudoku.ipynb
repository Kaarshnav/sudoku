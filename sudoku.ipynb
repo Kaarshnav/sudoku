{
 "cells": [
  {
   "cell_type": "code",
   "execution_count": 182,
   "metadata": {},
   "outputs": [],
   "source": [
    "puzz=[[3, 0, 6, 5, 0, 8, 4, 0, 0],  \n",
    "                      [5, 2, 0, 0, 0, 0, 0, 0, 0],  \n",
    "                      [0, 8, 7, 0, 0, 0, 0, 3, 1],  \n",
    "                      [0, 0, 3, 0, 1, 0, 0, 8, 0],  \n",
    "                      [9, 0, 0, 8, 6, 3, 0, 0, 5],  \n",
    "                      [0, 5, 0, 0, 9, 0, 6, 0, 0],  \n",
    "                      [1, 3, 0, 0, 0, 0, 2, 5, 0],  \n",
    "                      [0, 0, 0, 0, 0, 0, 0, 7, 4],  \n",
    "                      [0, 0, 5, 2, 0, 6, 3, 0, 0]]  \n",
    "puzz2 = [\n",
    "    [7,8,0,4,0,0,1,2,0],\n",
    "    [6,0,0,0,7,5,0,0,9],\n",
    "    [0,0,0,6,0,1,0,7,8],\n",
    "    [0,0,7,0,4,0,2,6,0],\n",
    "    [0,0,1,0,5,0,9,3,0],\n",
    "    [9,0,4,0,6,0,0,0,5],\n",
    "    [0,7,0,3,0,0,0,1,2],\n",
    "    [1,2,0,0,0,7,4,0,0],\n",
    "    [0,4,9,2,0,6,0,0,7]\n",
    "]\n",
    "    "
   ]
  },
  {
   "cell_type": "code",
   "execution_count": 183,
   "metadata": {},
   "outputs": [
    {
     "data": {
      "text/plain": [
       "9"
      ]
     },
     "execution_count": 183,
     "metadata": {},
     "output_type": "execute_result"
    }
   ],
   "source": [
    "len(puzz)"
   ]
  },
  {
   "cell_type": "code",
   "execution_count": 184,
   "metadata": {},
   "outputs": [
    {
     "data": {
      "text/plain": [
       "9"
      ]
     },
     "execution_count": 184,
     "metadata": {},
     "output_type": "execute_result"
    }
   ],
   "source": [
    "len(puzz[0])"
   ]
  },
  {
   "cell_type": "code",
   "execution_count": 185,
   "metadata": {},
   "outputs": [],
   "source": [
    "def draw(puzz):\n",
    "    for i in range(len(puzz)):\n",
    "        if i%3==0 and i!=0 :\n",
    "                print(\"========================================\")\n",
    "            \n",
    "        for j in range(len(puzz[0])):\n",
    "            if j%3==0 and j!=0:\n",
    "                print(\"||\",end=\" \")\n",
    "            if j==8 :\n",
    "                print(puzz[i][j])\n",
    "            else:\n",
    "                print(str(puzz[i][j]) + \"  \",end=\" \")\n",
    "                \n",
    "    \n",
    "    "
   ]
  },
  {
   "cell_type": "code",
   "execution_count": 186,
   "metadata": {},
   "outputs": [
    {
     "name": "stdout",
     "output_type": "stream",
     "text": [
      "3   0   6   || 5   0   8   || 4   0   0\n",
      "5   2   0   || 0   0   0   || 0   0   0\n",
      "0   8   7   || 0   0   0   || 0   3   1\n",
      "========================================\n",
      "0   0   3   || 0   1   0   || 0   8   0\n",
      "9   0   0   || 8   6   3   || 0   0   5\n",
      "0   5   0   || 0   9   0   || 6   0   0\n",
      "========================================\n",
      "1   3   0   || 0   0   0   || 2   5   0\n",
      "0   0   0   || 0   0   0   || 0   7   4\n",
      "0   0   5   || 2   0   6   || 3   0   0\n"
     ]
    }
   ],
   "source": [
    "draw(puzz)"
   ]
  },
  {
   "cell_type": "code",
   "execution_count": 187,
   "metadata": {},
   "outputs": [],
   "source": [
    "def findpos(puzz):\n",
    "    for i in range(len(puzz)):\n",
    "        for j in range(len(puzz[0])):\n",
    "            if puzz[i][j]==0:\n",
    "                return (i,j)\n",
    "    return None\n",
    "\n",
    "        \n",
    "        "
   ]
  },
  {
   "cell_type": "code",
   "execution_count": 188,
   "metadata": {},
   "outputs": [],
   "source": [
    "def valid(puzz,num,pos):\n",
    "    #checking for row\n",
    "    for i in range(len(puzz)):\n",
    "        if puzz[pos[0]][i]==num and pos[1]!=i:\n",
    "            return False\n",
    "    # similiar for column\n",
    "    for j in range(len(puzz)):\n",
    "        if puzz[j][pos[1]]==num and pos[0]!=j:\n",
    "            return False\n",
    "    # checking for each boxxxxx\n",
    "    col=pos[1]//3\n",
    "    row=pos[0]//3\n",
    "    for i in range(row*3,row*3+3):\n",
    "        for j in range(col*3,col*3+3):\n",
    "            if puzz[i][j]==num and (i,j)!=pos:\n",
    "                return False\n",
    "    return True\n",
    "    \n",
    "            \n",
    "    "
   ]
  },
  {
   "cell_type": "code",
   "execution_count": 190,
   "metadata": {},
   "outputs": [
    {
     "data": {
      "text/plain": [
       "False"
      ]
     },
     "execution_count": 190,
     "metadata": {},
     "output_type": "execute_result"
    }
   ],
   "source": [
    "valid(puzz,2,(0,0))"
   ]
  },
  {
   "cell_type": "code",
   "execution_count": 191,
   "metadata": {},
   "outputs": [],
   "source": [
    "def solvesuduko(puzz):\n",
    "    if  not findpos(puzz):\n",
    "        return True\n",
    "    else:\n",
    "        pos=findpos(puzz)\n",
    "    for i in range(1,10):\n",
    "        if valid(puzz,i,pos):\n",
    "            puzz[pos[0]][pos[1]]=i\n",
    "            if solvesuduko(puzz):\n",
    "                return True\n",
    "            puzz[pos[0]][pos[1]]=0   #backtracking\n",
    "    return False\n",
    "\n",
    "        \n",
    "        \n",
    "        \n",
    "            \n",
    "        \n",
    "        "
   ]
  },
  {
   "cell_type": "code",
   "execution_count": 197,
   "metadata": {},
   "outputs": [
    {
     "name": "stdout",
     "output_type": "stream",
     "text": [
      "original sudoku is :-\n",
      "  \n",
      "  \n",
      "  \n",
      "  \n",
      "3   1   6   || 5   7   8   || 4   9   2\n",
      "5   2   9   || 1   3   4   || 7   6   8\n",
      "4   8   7   || 6   2   9   || 5   3   1\n",
      "========================================\n",
      "2   6   3   || 4   1   5   || 9   8   7\n",
      "9   7   4   || 8   6   3   || 1   2   5\n",
      "8   5   1   || 7   9   2   || 6   4   3\n",
      "========================================\n",
      "1   3   8   || 9   4   7   || 2   5   6\n",
      "6   9   2   || 3   5   1   || 8   7   4\n",
      "7   4   5   || 2   8   6   || 3   1   9\n",
      "  \n",
      "  \n",
      "  \n",
      "  \n",
      "it's being solved.............................\n",
      "  \n",
      "  \n",
      "  \n",
      "  \n",
      "3   1   6   || 5   7   8   || 4   9   2\n",
      "5   2   9   || 1   3   4   || 7   6   8\n",
      "4   8   7   || 6   2   9   || 5   3   1\n",
      "========================================\n",
      "2   6   3   || 4   1   5   || 9   8   7\n",
      "9   7   4   || 8   6   3   || 1   2   5\n",
      "8   5   1   || 7   9   2   || 6   4   3\n",
      "========================================\n",
      "1   3   8   || 9   4   7   || 2   5   6\n",
      "6   9   2   || 3   5   1   || 8   7   4\n",
      "7   4   5   || 2   8   6   || 3   1   9\n",
      "  \n",
      "  \n"
     ]
    }
   ],
   "source": [
    "print(\"original sudoku is :-\")\n",
    "print(\"  \")\n",
    "print(\"  \")\n",
    "print(\"  \")\n",
    "print(\"  \")\n",
    "draw(puzz)\n",
    "print(\"  \")\n",
    "print(\"  \")\n",
    "solvesuduko(puzz)\n",
    "print(\"  \")\n",
    "print(\"  \")\n",
    "\n",
    "print(\"it's being solved.............................\")\n",
    "print(\"  \")\n",
    "print(\"  \")\n",
    "print(\"  \")\n",
    "print(\"  \")\n",
    "\n",
    "draw(puzz)\n",
    "print(\"  \")\n",
    "print(\"  \")\n",
    "\n"
   ]
  },
  {
   "cell_type": "code",
   "execution_count": null,
   "metadata": {},
   "outputs": [],
   "source": []
  },
  {
   "cell_type": "code",
   "execution_count": null,
   "metadata": {},
   "outputs": [],
   "source": []
  },
  {
   "cell_type": "code",
   "execution_count": null,
   "metadata": {},
   "outputs": [],
   "source": []
  },
  {
   "cell_type": "code",
   "execution_count": null,
   "metadata": {},
   "outputs": [],
   "source": []
  },
  {
   "cell_type": "code",
   "execution_count": null,
   "metadata": {},
   "outputs": [],
   "source": []
  },
  {
   "cell_type": "code",
   "execution_count": null,
   "metadata": {},
   "outputs": [],
   "source": []
  }
 ],
 "metadata": {
  "kernelspec": {
   "display_name": "Python 3",
   "language": "python",
   "name": "python3"
  },
  "language_info": {
   "codemirror_mode": {
    "name": "ipython",
    "version": 3
   },
   "file_extension": ".py",
   "mimetype": "text/x-python",
   "name": "python",
   "nbconvert_exporter": "python",
   "pygments_lexer": "ipython3",
   "version": "3.7.3"
  }
 },
 "nbformat": 4,
 "nbformat_minor": 4
}
